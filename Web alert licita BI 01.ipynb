{
 "cells": [
  {
   "cell_type": "markdown",
   "id": "fa384f1c",
   "metadata": {},
   "source": [
    "# SCRAPANDO alerta licitação GO"
   ]
  },
  {
   "cell_type": "code",
   "execution_count": 2,
   "id": "d1b8a3b9",
   "metadata": {},
   "outputs": [],
   "source": [
    "from urllib.request import urlopen\n",
    "from bs4 import BeautifulSoup\n",
    "import seaborn as sns\n",
    "import pandas as pd\n",
    "import numpy as np\n",
    "import re\n",
    "from matplotlib import pyplot as plt\n",
    "##from selenium import webdriver\n"
   ]
  },
  {
   "cell_type": "code",
   "execution_count": 3,
   "id": "07b0b35c",
   "metadata": {},
   "outputs": [],
   "source": [
    "def trata_html(input):\n",
    "    html = input.decode('utf-8')\n",
    "    return \" \".join(html.split()).replace('> <', '><')"
   ]
  },
  {
   "cell_type": "markdown",
   "id": "85583708",
   "metadata": {},
   "source": [
    "### Class_=\"panel\" é a tag que mantem todos os dados de cada licitacão"
   ]
  },
  {
   "cell_type": "code",
   "execution_count": 4,
   "id": "748f1c82",
   "metadata": {},
   "outputs": [],
   "source": [
    "#camila = joule.findAll(class_=\"panel\")\n",
    "#camila[x].get_text(separator=' ', strip=True)"
   ]
  },
  {
   "cell_type": "markdown",
   "id": "2e89ea9f",
   "metadata": {},
   "source": [
    "## Selecionando apenas as datas \n",
    "#### as datas são o penultimo item das class_=\"panel\""
   ]
  },
  {
   "cell_type": "markdown",
   "id": "4ca6a9f4",
   "metadata": {},
   "source": [
    " pesquisando por meio de regex, encontra a formula dentre as as strings"
   ]
  },
  {
   "cell_type": "code",
   "execution_count": 5,
   "id": "0ad71f47",
   "metadata": {},
   "outputs": [],
   "source": [
    "def cronis(camilap): # pesquisando por meio de regex, encontra a formula dentre as as strings\n",
    "    terminus = []\n",
    "    for i in camilap:\n",
    "        ptext = (i.findAll(\"p\")[2:-1])\n",
    "        for l in ptext: \n",
    "            result = re.search(r\"\\d\\d/\\d\\d/\\d\\d\\d\\d\", i.get_text())\n",
    "        terminus.append(result.group())\n",
    "    return(terminus)"
   ]
  },
  {
   "cell_type": "markdown",
   "id": "a80527e2",
   "metadata": {},
   "source": [
    "# Objetos"
   ]
  },
  {
   "cell_type": "code",
   "execution_count": 6,
   "id": "f2aac437",
   "metadata": {},
   "outputs": [],
   "source": [
    "def obje(camila):\n",
    "    objetivo = []\n",
    "    for i in camila:\n",
    "        objetivo.append(i.findAll('p')[-1].get_text())\n",
    "    return(objetivo)\n",
    "        "
   ]
  },
  {
   "cell_type": "markdown",
   "id": "12071a25",
   "metadata": {},
   "source": [
    "## Selecionando apenas nomes.\n",
    "#### Os nomes estao entre h3 na  class_=\"panel\""
   ]
  },
  {
   "cell_type": "code",
   "execution_count": 7,
   "id": "04d6bff3",
   "metadata": {},
   "outputs": [],
   "source": [
    "def nama(camila):\n",
    "    nome = []\n",
    "    for i in camila:\n",
    "        x=(i.find(\"h3\").get_text().split(\"(\")[-2])\n",
    "        nome.append(x)\n",
    "    return nome\n",
    "    "
   ]
  },
  {
   "cell_type": "markdown",
   "id": "b2953208",
   "metadata": {},
   "source": [
    "## Cidades nomes:\n",
    "#### Estao dispersas e sem classe, mas vem escritas municipio ou cidade antes do nome, transforma cada linha e lista, achar\n",
    "#### a palavra chave municipio ou cidade e pegar a ultima palavra que sera o nome"
   ]
  },
  {
   "cell_type": "code",
   "execution_count": 8,
   "id": "2cdc019c",
   "metadata": {},
   "outputs": [],
   "source": [
    "def cidadela(oio):\n",
    "    cidade = \"nada\"\n",
    "    ei = []\n",
    "    for i in oio:\n",
    "        ei.append(i.get_text().split(\":\"))\n",
    "    ei = np.array(ei[:-2])\n",
    "    for i in ei:\n",
    "        for j in i:\n",
    "            if j == \"Cidade\":\n",
    "                cidade = (i[-1])\n",
    "            elif j == \"Municipio\":\n",
    "                cidade = ((i[-1]))\n",
    "            cidade = (cidade.split(\"/\"))[0]\n",
    "            cidade = (cidade.split(\"-\"))[0]\n",
    "            cidade = (cidade.split(\"(\"))[0]\n",
    "            cidade = cidade.strip()\n",
    "            cidade = cidade + \" - \" + go\n",
    "    return(cidade)\n",
    "#city = cidadela(cacu)\n",
    "#city"
   ]
  },
  {
   "cell_type": "code",
   "execution_count": 9,
   "id": "c223abb1",
   "metadata": {},
   "outputs": [],
   "source": [
    "def omnicity (camila):  \n",
    "    lacunas=[]\n",
    "    for i in camila:\n",
    "        z = i.findAll(\"p\")\n",
    "        z=cidadela(z)\n",
    "        lacunas.append(z)\n",
    "    return lacunas"
   ]
  },
  {
   "cell_type": "markdown",
   "id": "6f97024b",
   "metadata": {},
   "source": [
    "# Nome, Cidade, Tempo, Descrição e Pandas v0.22"
   ]
  },
  {
   "cell_type": "code",
   "execution_count": 10,
   "id": "054be822",
   "metadata": {},
   "outputs": [],
   "source": [
    "def goianando(est):\n",
    "    tempo = []\n",
    "    descri = []\n",
    "    nome = []\n",
    "    cidade = []\n",
    "    for k in range(10):\n",
    "        uai = (\"https://alertalicitacao.com.br//ajax/e.php?e=\"+str(est)+\"&paginaAjax=\"+ str(k))\n",
    "        response = urlopen(uai)\n",
    "        html = response.read()\n",
    "        goin = trata_html(html)\n",
    "        uai = BeautifulSoup(goin, 'html.parser')\n",
    "        #Area onde se encontra os paneis com as licitacoes\n",
    "        camila = uai.findAll(class_=\"panel\")\n",
    "        tempo += cronis(camila)\n",
    "        descri += obje(camila)\n",
    "        cidade += omnicity(camila)  \n",
    "        nome += nama(camila)\n",
    "    dicionario = {\"nome\":nome,\"cidade\":cidade,\"tempo\":tempo,\"Description\":descri}\n",
    "    return (dicionario)"
   ]
  },
  {
   "cell_type": "code",
   "execution_count": 11,
   "id": "f8e26f4c",
   "metadata": {
    "scrolled": true
   },
   "outputs": [
    {
     "name": "stderr",
     "output_type": "stream",
     "text": [
      "C:\\Users\\Micro\\AppData\\Local\\Temp/ipykernel_13836/2346625263.py:6: VisibleDeprecationWarning: Creating an ndarray from ragged nested sequences (which is a list-or-tuple of lists-or-tuples-or ndarrays with different lengths or shapes) is deprecated. If you meant to do this, you must specify 'dtype=object' when creating the ndarray.\n",
      "  ei = np.array(ei[:-2])\n"
     ]
    }
   ],
   "source": [
    "go=\"GO\" # Sigla maiuscula do estado de interesse\n",
    "lorenzo = goianando(go)"
   ]
  },
  {
   "cell_type": "code",
   "execution_count": 12,
   "id": "4668899c",
   "metadata": {
    "scrolled": true
   },
   "outputs": [],
   "source": [
    "tabuleta = pd.DataFrame(lorenzo)"
   ]
  },
  {
   "cell_type": "code",
   "execution_count": 13,
   "id": "86316a35",
   "metadata": {},
   "outputs": [],
   "source": [
    "tabuleta[\"tempo\"] = pd.to_datetime(tabuleta[\"tempo\"],format = \"%d/%m/%Y\")\n",
    "tabuleta.sort_values(by = ['tempo'],inplace = True)\n",
    "tabuleta.reset_index(drop=True, inplace = True)\n",
    "tabuleta[\"tempo\"] = [i.strftime(\"%d-%m\") for i in tabuleta.tempo]"
   ]
  },
  {
   "cell_type": "markdown",
   "id": "217a70ba",
   "metadata": {},
   "source": [
    "# Função de pesquisa no DataFrame:"
   ]
  },
  {
   "cell_type": "markdown",
   "id": "8e4d6377",
   "metadata": {},
   "source": [
    "Criando conluna com keywords, formando lista para ser chamado no proximo def"
   ]
  },
  {
   "cell_type": "code",
   "execution_count": 14,
   "id": "06d8b14c",
   "metadata": {},
   "outputs": [],
   "source": [
    "def keywords(frame,obj1,obj2):\n",
    "    tipo =[]\n",
    "    separador = \" em \"\n",
    "    for i in frame.Description:\n",
    "        keyword = []\n",
    "        telo = \"obra\"       #telo = re.search(obj1,i,re.IGNORECASE).group()\n",
    "        nelo =re.search(obj2,i,re.IGNORECASE).group()\n",
    "        keyword = [telo,nelo]\n",
    "        tipo.append(separador.join(keyword).lower())\n",
    "    return(tipo)"
   ]
  },
  {
   "cell_type": "markdown",
   "id": "84e70309",
   "metadata": {},
   "source": [
    "Procurando no data frame pelas keywords = cidade, servico 1(tipo ex: reforma) - servico 2( de que, ex: escola)  "
   ]
  },
  {
   "cell_type": "code",
   "execution_count": 15,
   "id": "14faacfb",
   "metadata": {},
   "outputs": [],
   "source": [
    "def pesquisa(frame,city,string,string2):\n",
    "    z=0\n",
    "    if city == 0:\n",
    "        frame = frame\n",
    "    else:\n",
    "        frame = frame[frame.cidade.str.contains(city, case=False, regex=True)]\n",
    "    if string == 0:\n",
    "        frame = frame\n",
    "        z+=1\n",
    "    else:\n",
    "        frame = frame[frame.Description.str.contains(string, case=False, regex=True)]\n",
    "    if string2 == 0:\n",
    "        frame = frame\n",
    "        z+=1\n",
    "    else:\n",
    "        frame = frame[frame.Description.str.contains(string2, case=False, regex=True)]\n",
    "    if z==0:\n",
    "        keyword=keywords(frame,string,string2)\n",
    "        frame.insert(3,\"palavra_chave\",keyword) \n",
    "    return frame\n",
    "    "
   ]
  },
  {
   "cell_type": "markdown",
   "id": "2d0a49ac",
   "metadata": {},
   "source": [
    "Demonstrar em texto corrido as licitaçoes"
   ]
  },
  {
   "cell_type": "code",
   "execution_count": 16,
   "id": "04a74ca6",
   "metadata": {},
   "outputs": [],
   "source": [
    "obj1 = 'construção|reforma|reconstrução|obras|obra'\n",
    "obj2 = \"escola|creche|estádio|Unidade Basica de Saúde|Calçada|Calçadas|cmei|ubs\"\n",
    "cidades = 'goiânia|luziânia|Formosa|Valparaíso|planaltina'\n",
    "resumo = pesquisa(tabuleta,0,obj1,obj2).reset_index(drop=True)"
   ]
  },
  {
   "cell_type": "code",
   "execution_count": null,
   "id": "26ed7cfd",
   "metadata": {},
   "outputs": [],
   "source": []
  },
  {
   "cell_type": "markdown",
   "id": "78dd0605",
   "metadata": {},
   "source": [
    "# Analisando"
   ]
  },
  {
   "cell_type": "code",
   "execution_count": 17,
   "id": "97413d53",
   "metadata": {
    "scrolled": false
   },
   "outputs": [
    {
     "data": {
      "text/html": [
       "<div>\n",
       "<style scoped>\n",
       "    .dataframe tbody tr th:only-of-type {\n",
       "        vertical-align: middle;\n",
       "    }\n",
       "\n",
       "    .dataframe tbody tr th {\n",
       "        vertical-align: top;\n",
       "    }\n",
       "\n",
       "    .dataframe thead th {\n",
       "        text-align: right;\n",
       "    }\n",
       "</style>\n",
       "<table border=\"1\" class=\"dataframe\">\n",
       "  <thead>\n",
       "    <tr style=\"text-align: right;\">\n",
       "      <th></th>\n",
       "      <th>nome</th>\n",
       "      <th>cidade</th>\n",
       "      <th>tempo</th>\n",
       "      <th>palavra_chave</th>\n",
       "      <th>Description</th>\n",
       "    </tr>\n",
       "  </thead>\n",
       "  <tbody>\n",
       "    <tr>\n",
       "      <th>0</th>\n",
       "      <td>PREGÃO ELETRÔNICO Nº 6/2022</td>\n",
       "      <td>Chapadão do Céu - GO</td>\n",
       "      <td>01-02</td>\n",
       "      <td>obra em ubs</td>\n",
       "      <td>AVISO DE licitaçãoPREGÃO ELETRÔNICO Nº 6/2022...</td>\n",
       "    </tr>\n",
       "    <tr>\n",
       "      <th>1</th>\n",
       "      <td>TOMADA DE PREÇOS PARA OBRAS E SERVIÇOS DE ENGE...</td>\n",
       "      <td>Abadia de Goiás - GO</td>\n",
       "      <td>01-02</td>\n",
       "      <td>obra em escola</td>\n",
       "      <td>SOLICITAÇÃO DE CONTRATAÇÃO DE EMPRESA ESPECIA...</td>\n",
       "    </tr>\n",
       "    <tr>\n",
       "      <th>2</th>\n",
       "      <td>Pregão Eletrônico Nº 3/2022</td>\n",
       "      <td>Turvânia - GO</td>\n",
       "      <td>02-02</td>\n",
       "      <td>obra em escola</td>\n",
       "      <td>Pregão Eletrônico - Aquisição de cimento, mat...</td>\n",
       "    </tr>\n",
       "    <tr>\n",
       "      <th>3</th>\n",
       "      <td>TOMADA DE PREÇOS Nº 1/2022</td>\n",
       "      <td>Goianira - GO</td>\n",
       "      <td>02-02</td>\n",
       "      <td>obra em ubs</td>\n",
       "      <td>TOMADA DE PREÇOS Nº 1/2022 O Município de Goi...</td>\n",
       "    </tr>\n",
       "    <tr>\n",
       "      <th>4</th>\n",
       "      <td>TOMADA DE PREÇOS Nº 1/2022</td>\n",
       "      <td>Faina - GO</td>\n",
       "      <td>02-02</td>\n",
       "      <td>obra em estádio</td>\n",
       "      <td>TOMADA DE PREÇOS Nº 1/2022 O Município de Fai...</td>\n",
       "    </tr>\n",
       "    <tr>\n",
       "      <th>5</th>\n",
       "      <td>TOMADA DE PREÇOS N° 1/2022</td>\n",
       "      <td>Abadia de Goiás - GO</td>\n",
       "      <td>02-02</td>\n",
       "      <td>obra em escola</td>\n",
       "      <td>TOMADA DE PREÇOS N° 1/2022 O Município de Aba...</td>\n",
       "    </tr>\n",
       "    <tr>\n",
       "      <th>6</th>\n",
       "      <td>Tomada de preços 1/2022</td>\n",
       "      <td>Trindade - GO</td>\n",
       "      <td>02-02</td>\n",
       "      <td>obra em escola</td>\n",
       "      <td>CONTRATAÇÃO DE EMPRESA DE ENGENHARIA PARA CON...</td>\n",
       "    </tr>\n",
       "    <tr>\n",
       "      <th>7</th>\n",
       "      <td>TOMADA DE PREÇOS Nº 1/2022</td>\n",
       "      <td>Doverlândia - GO</td>\n",
       "      <td>03-02</td>\n",
       "      <td>obra em escola</td>\n",
       "      <td>Contratação de empresa para reforma e ampliaç...</td>\n",
       "    </tr>\n",
       "    <tr>\n",
       "      <th>8</th>\n",
       "      <td>TOMADA DE PREÇOS Nº 1/2022</td>\n",
       "      <td>Cachoeira Dourada - GO</td>\n",
       "      <td>04-02</td>\n",
       "      <td>obra em escola</td>\n",
       "      <td>AVISO DE LICITAÇÃOTOMADA DE PREÇOS Nº 1/2022 ...</td>\n",
       "    </tr>\n",
       "    <tr>\n",
       "      <th>9</th>\n",
       "      <td>Tomada de preços 1/2022</td>\n",
       "      <td>Campestre de Goiás - GO</td>\n",
       "      <td>04-02</td>\n",
       "      <td>obra em creche</td>\n",
       "      <td>CONTRATAÇÃO DE EMPRESA PARA REALIZAR A REFORM...</td>\n",
       "    </tr>\n",
       "    <tr>\n",
       "      <th>10</th>\n",
       "      <td>TOMADA DE PREÇOS -</td>\n",
       "      <td>Santa Bárbara de Goiás - GO</td>\n",
       "      <td>07-02</td>\n",
       "      <td>obra em cmei</td>\n",
       "      <td>AVISO DE LICITAÇÕES A PREFEITURA MUNICIPAL DE...</td>\n",
       "    </tr>\n",
       "    <tr>\n",
       "      <th>11</th>\n",
       "      <td>TOMADA DE PREÇOS Nº 13/2021</td>\n",
       "      <td>Bela Vista de Goiás - GO</td>\n",
       "      <td>07-02</td>\n",
       "      <td>obra em escola</td>\n",
       "      <td>TOMADA DE PREÇOS Nº 13/2021 O Município de Be...</td>\n",
       "    </tr>\n",
       "    <tr>\n",
       "      <th>12</th>\n",
       "      <td>TOMADA DE PREÇO Nº 9/2021</td>\n",
       "      <td>Mozarlândia - GO</td>\n",
       "      <td>09-02</td>\n",
       "      <td>obra em escola</td>\n",
       "      <td>Objeto: TOMADA DE PREÇO Nº 9/2021 PROCESSO ADM...</td>\n",
       "    </tr>\n",
       "    <tr>\n",
       "      <th>13</th>\n",
       "      <td>TOMADA DE PREÇOS Nº 1/2022</td>\n",
       "      <td>Padre Bernardo - GO</td>\n",
       "      <td>10-02</td>\n",
       "      <td>obra em calçada</td>\n",
       "      <td>TOMADA DE PREÇOS Nº 1/2022 O Município de Pad...</td>\n",
       "    </tr>\n",
       "    <tr>\n",
       "      <th>14</th>\n",
       "      <td>PREGÃO PRESENCIAL Nº 1/2022</td>\n",
       "      <td>Santo Antônio da Barra - GO</td>\n",
       "      <td>14-02</td>\n",
       "      <td>obra em ubs</td>\n",
       "      <td>PREGÃO PRESENCIAL Nº 1/2022 - SRP A prefeitur...</td>\n",
       "    </tr>\n",
       "    <tr>\n",
       "      <th>15</th>\n",
       "      <td>TOMADA DE PREÇOS Nº 2/2022</td>\n",
       "      <td>Formosa - GO</td>\n",
       "      <td>15-02</td>\n",
       "      <td>obra em escola</td>\n",
       "      <td>TOMADA DE PREÇOS Nº 2/2022 O FUNDO MUNICIPAL ...</td>\n",
       "    </tr>\n",
       "    <tr>\n",
       "      <th>16</th>\n",
       "      <td>Tomada de preços 2/2022</td>\n",
       "      <td>Formosa - GO</td>\n",
       "      <td>15-02</td>\n",
       "      <td>obra em escola</td>\n",
       "      <td>CONTRATAÇÃO DE EMPRESA ESPECIALIZADA PARA REF...</td>\n",
       "    </tr>\n",
       "    <tr>\n",
       "      <th>17</th>\n",
       "      <td>Tomada de preços 2/2022</td>\n",
       "      <td>Trindade - GO</td>\n",
       "      <td>16-02</td>\n",
       "      <td>obra em cmei</td>\n",
       "      <td>CONTRATAÇÃO DE EMPRESA DE ENGENHARIA PARA EXE...</td>\n",
       "    </tr>\n",
       "    <tr>\n",
       "      <th>18</th>\n",
       "      <td>Tomada de preços 1/2022</td>\n",
       "      <td>Caçu - GO</td>\n",
       "      <td>16-02</td>\n",
       "      <td>obra em escola</td>\n",
       "      <td>CONTRATAÇÃO DE EMPRESA DO RAMO PARA EXECUÇÃO ...</td>\n",
       "    </tr>\n",
       "    <tr>\n",
       "      <th>19</th>\n",
       "      <td>TOMADA DE PREÇOS Nº 7/2021</td>\n",
       "      <td>Mozarlândia - GO</td>\n",
       "      <td>18-02</td>\n",
       "      <td>obra em escola</td>\n",
       "      <td>Objeto: TOMADA DE PREÇOS Nº 7/2021 Processo Ad...</td>\n",
       "    </tr>\n",
       "    <tr>\n",
       "      <th>20</th>\n",
       "      <td>Tomada de preços 2/2022</td>\n",
       "      <td>Caçu - GO</td>\n",
       "      <td>18-02</td>\n",
       "      <td>obra em escola</td>\n",
       "      <td>CONTRATAÇÃO DE EMPRESA DO RAMO PARA EXECUÇÃO ...</td>\n",
       "    </tr>\n",
       "  </tbody>\n",
       "</table>\n",
       "</div>"
      ],
      "text/plain": [
       "                                                 nome  \\\n",
       "0                         PREGÃO ELETRÔNICO Nº 6/2022   \n",
       "1   TOMADA DE PREÇOS PARA OBRAS E SERVIÇOS DE ENGE...   \n",
       "2                         Pregão Eletrônico Nº 3/2022   \n",
       "3                          TOMADA DE PREÇOS Nº 1/2022   \n",
       "4                          TOMADA DE PREÇOS Nº 1/2022   \n",
       "5                          TOMADA DE PREÇOS N° 1/2022   \n",
       "6                             Tomada de preços 1/2022   \n",
       "7                          TOMADA DE PREÇOS Nº 1/2022   \n",
       "8                          TOMADA DE PREÇOS Nº 1/2022   \n",
       "9                             Tomada de preços 1/2022   \n",
       "10                                 TOMADA DE PREÇOS -   \n",
       "11                        TOMADA DE PREÇOS Nº 13/2021   \n",
       "12                          TOMADA DE PREÇO Nº 9/2021   \n",
       "13                         TOMADA DE PREÇOS Nº 1/2022   \n",
       "14                        PREGÃO PRESENCIAL Nº 1/2022   \n",
       "15                         TOMADA DE PREÇOS Nº 2/2022   \n",
       "16                            Tomada de preços 2/2022   \n",
       "17                            Tomada de preços 2/2022   \n",
       "18                            Tomada de preços 1/2022   \n",
       "19                         TOMADA DE PREÇOS Nº 7/2021   \n",
       "20                            Tomada de preços 2/2022   \n",
       "\n",
       "                         cidade  tempo    palavra_chave  \\\n",
       "0          Chapadão do Céu - GO  01-02      obra em ubs   \n",
       "1          Abadia de Goiás - GO  01-02   obra em escola   \n",
       "2                 Turvânia - GO  02-02   obra em escola   \n",
       "3                 Goianira - GO  02-02      obra em ubs   \n",
       "4                    Faina - GO  02-02  obra em estádio   \n",
       "5          Abadia de Goiás - GO  02-02   obra em escola   \n",
       "6                 Trindade - GO  02-02   obra em escola   \n",
       "7              Doverlândia - GO  03-02   obra em escola   \n",
       "8        Cachoeira Dourada - GO  04-02   obra em escola   \n",
       "9       Campestre de Goiás - GO  04-02   obra em creche   \n",
       "10  Santa Bárbara de Goiás - GO  07-02     obra em cmei   \n",
       "11     Bela Vista de Goiás - GO  07-02   obra em escola   \n",
       "12             Mozarlândia - GO  09-02   obra em escola   \n",
       "13          Padre Bernardo - GO  10-02  obra em calçada   \n",
       "14  Santo Antônio da Barra - GO  14-02      obra em ubs   \n",
       "15                 Formosa - GO  15-02   obra em escola   \n",
       "16                 Formosa - GO  15-02   obra em escola   \n",
       "17                Trindade - GO  16-02     obra em cmei   \n",
       "18                    Caçu - GO  16-02   obra em escola   \n",
       "19             Mozarlândia - GO  18-02   obra em escola   \n",
       "20                    Caçu - GO  18-02   obra em escola   \n",
       "\n",
       "                                          Description  \n",
       "0    AVISO DE licitaçãoPREGÃO ELETRÔNICO Nº 6/2022...  \n",
       "1    SOLICITAÇÃO DE CONTRATAÇÃO DE EMPRESA ESPECIA...  \n",
       "2    Pregão Eletrônico - Aquisição de cimento, mat...  \n",
       "3    TOMADA DE PREÇOS Nº 1/2022 O Município de Goi...  \n",
       "4    TOMADA DE PREÇOS Nº 1/2022 O Município de Fai...  \n",
       "5    TOMADA DE PREÇOS N° 1/2022 O Município de Aba...  \n",
       "6    CONTRATAÇÃO DE EMPRESA DE ENGENHARIA PARA CON...  \n",
       "7    Contratação de empresa para reforma e ampliaç...  \n",
       "8    AVISO DE LICITAÇÃOTOMADA DE PREÇOS Nº 1/2022 ...  \n",
       "9    CONTRATAÇÃO DE EMPRESA PARA REALIZAR A REFORM...  \n",
       "10   AVISO DE LICITAÇÕES A PREFEITURA MUNICIPAL DE...  \n",
       "11   TOMADA DE PREÇOS Nº 13/2021 O Município de Be...  \n",
       "12  Objeto: TOMADA DE PREÇO Nº 9/2021 PROCESSO ADM...  \n",
       "13   TOMADA DE PREÇOS Nº 1/2022 O Município de Pad...  \n",
       "14   PREGÃO PRESENCIAL Nº 1/2022 - SRP A prefeitur...  \n",
       "15   TOMADA DE PREÇOS Nº 2/2022 O FUNDO MUNICIPAL ...  \n",
       "16   CONTRATAÇÃO DE EMPRESA ESPECIALIZADA PARA REF...  \n",
       "17   CONTRATAÇÃO DE EMPRESA DE ENGENHARIA PARA EXE...  \n",
       "18   CONTRATAÇÃO DE EMPRESA DO RAMO PARA EXECUÇÃO ...  \n",
       "19  Objeto: TOMADA DE PREÇOS Nº 7/2021 Processo Ad...  \n",
       "20   CONTRATAÇÃO DE EMPRESA DO RAMO PARA EXECUÇÃO ...  "
      ]
     },
     "execution_count": 17,
     "metadata": {},
     "output_type": "execute_result"
    }
   ],
   "source": [
    "resumo"
   ]
  }
 ],
 "metadata": {
  "kernelspec": {
   "display_name": "Python 3 (ipykernel)",
   "language": "python",
   "name": "python3"
  },
  "language_info": {
   "codemirror_mode": {
    "name": "ipython",
    "version": 3
   },
   "file_extension": ".py",
   "mimetype": "text/x-python",
   "name": "python",
   "nbconvert_exporter": "python",
   "pygments_lexer": "ipython3",
   "version": "3.9.7"
  }
 },
 "nbformat": 4,
 "nbformat_minor": 5
}
